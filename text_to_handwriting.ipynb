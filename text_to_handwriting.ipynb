{
 "cells": [
  {
   "cell_type": "code",
   "execution_count": 1,
   "id": "6fd7d9e5",
   "metadata": {},
   "outputs": [],
   "source": [
    "#import library\n",
    "import pywhatkit"
   ]
  },
  {
   "cell_type": "code",
   "execution_count": 2,
   "id": "1d987e1b",
   "metadata": {},
   "outputs": [],
   "source": [
    "#image will save into where your .ipynb file is located\n",
    "pywhatkit.text_to_handwriting(\"I want a logo design for my medical and general store.\", rgb=(0, 0, 255))"
   ]
  }
 ],
 "metadata": {
  "kernelspec": {
   "display_name": "Python 3",
   "language": "python",
   "name": "python3"
  },
  "language_info": {
   "codemirror_mode": {
    "name": "ipython",
    "version": 3
   },
   "file_extension": ".py",
   "mimetype": "text/x-python",
   "name": "python",
   "nbconvert_exporter": "python",
   "pygments_lexer": "ipython3",
   "version": "3.9.4"
  }
 },
 "nbformat": 4,
 "nbformat_minor": 5
}
